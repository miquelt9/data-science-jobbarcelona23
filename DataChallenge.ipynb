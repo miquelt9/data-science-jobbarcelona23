{
  "nbformat": 4,
  "nbformat_minor": 0,
  "metadata": {
    "colab": {
      "provenance": [],
      "collapsed_sections": [
        "htO5wAuMi0cs"
      ],
      "authorship_tag": "ABX9TyPx31w5jr99z9UZkVde8ZQv",
      "include_colab_link": true
    },
    "kernelspec": {
      "name": "python3",
      "display_name": "Python 3"
    },
    "language_info": {
      "name": "python"
    },
    "gpuClass": "standard"
  },
  "cells": [
    {
      "cell_type": "markdown",
      "metadata": {
        "id": "view-in-github",
        "colab_type": "text"
      },
      "source": [
        "<a href=\"https://colab.research.google.com/github/miquelt9/data-science-jobbarcelona23/blob/main/DataChallenge.ipynb\" target=\"_parent\"><img src=\"https://colab.research.google.com/assets/colab-badge.svg\" alt=\"Open In Colab\"/></a>"
      ]
    },
    {
      "cell_type": "markdown",
      "source": [
        "#Problem Statement"
      ],
      "metadata": {
        "id": "htO5wAuMi0cs"
      }
    },
    {
      "cell_type": "markdown",
      "source": [
        "➡️ Contexto:\n",
        "\n",
        "Somos un banco que dispone de una base de datos con una gran cantidad de información sobre nuestros clientes. Nuestro objetivo es ayudar a los analistas a predecir la tasa de abandono de estos clientes para así poder reducirla. La base de datos incluye información demográfica como la edad, el sexo, el estado civil y la categoría de ingresos. También contiene información sobre el tipo de tarjeta, el número de meses en cartera y los periodos inactivos. Además, dispone de datos clave sobre el comportamiento de gasto de los clientes que se acercan a su decisión de cancelación. Entre esta última información hay el saldo total renovable, el límite de crédito, la tasa media de apertura a la compra y métricas analizables como el importe total del cambio del cuarto trimestre al primero o el índice medio de utilización.\n",
        "\n",
        "Frente a este conjunto de datos podemos capturar información actualizada que puede determinar la estabilidad de la cuenta a largo plazo o su salida inminente.\n",
        "\n",
        "📄 Dataset: [supply_chain_train.csv]()\n",
        "\n",
        "Para este desafío, tendrás que predecir el Attrition_Flag.\n",
        "\n",
        "🎯 Objetivo:\n",
        "\n",
        "Crea un modelo predictivo de clasificación para poder clasificar los datos del archivo de [testing](). Primero entrena tu modelo con el conjunto de datos de training y una vez que tengas el modelo que maximice la puntuación f1 (macro.) utiliza los datos de testing como entrada para tu modelo."
      ],
      "metadata": {
        "id": "fXAanbLUVayL"
      }
    },
    {
      "cell_type": "markdown",
      "source": [
        "#Dependencies imports and data treatment"
      ],
      "metadata": {
        "id": "tJESKASZi4lU"
      }
    },
    {
      "cell_type": "markdown",
      "source": [
        "0️⃣ - First of all we have to make sure our libraries are installed:"
      ],
      "metadata": {
        "id": "DlPDMOWQ1P3Z"
      }
    },
    {
      "cell_type": "code",
      "execution_count": null,
      "metadata": {
        "id": "n8j8uiBM0L6k"
      },
      "outputs": [],
      "source": [
        "pip install pandas numpy keras tensorflow"
      ]
    },
    {
      "cell_type": "markdown",
      "source": [
        "1️⃣ - 📚 Import the libraries we will use for creating the model and load the training data file"
      ],
      "metadata": {
        "id": "_78VZQ6V-QaB"
      }
    },
    {
      "cell_type": "code",
      "source": [
        "# Import libraries\n",
        "## Basic libs\n",
        "import pandas as pd\n",
        "import numpy as np\n",
        "import warnings\n",
        "## Data Visualization\n",
        "import seaborn as sns\n",
        "import matplotlib.pyplot as plt\n",
        "\n",
        "# Configure libraries\n",
        "warnings.filterwarnings('ignore')\n",
        "plt.rcParams['figure.figsize'] = (10, 10)\n",
        "plt.style.use('seaborn')\n",
        "\n",
        "\n",
        "# Load dataset\n",
        "df_bank = pd.read_csv('https://raw.githubusercontent.com/miquelt9/data-science-jobbarcelona23/main/supply_chain_train.csv')"
      ],
      "metadata": {
        "id": "bl1UeL1Y1PWk"
      },
      "execution_count": 49,
      "outputs": []
    },
    {
      "cell_type": "markdown",
      "source": [
        "2️⃣ - ✨ Get the data ready by applying transformations"
      ],
      "metadata": {
        "id": "83_aINHK-bfz"
      }
    },
    {
      "cell_type": "code",
      "source": [
        "def my_map(df, df_col):\n",
        "  mapping = {val: i for i, val in enumerate(set(df[df_col]))}\n",
        "  df[df_col] = [mapping[val] for val in df[df_col]]\n",
        "\n",
        "def my_transformation(df):\n",
        "\n",
        "  scaler = StandardScaler()\n",
        "  num_cols = ['Months_on_book', 'Total_Relationship_Count', 'Months_Inactive_12_mon', 'Contacts_Count_12_mon', 'Credit_Limit', 'Total_Revolving_Bal', 'Avg_Open_To_Buy', 'Total_Amt_Chng_Q4_Q1', 'Total_Trans_Amt', 'Total_Trans_Ct', 'Total_Ct_Chng_Q4_Q1', 'Avg_Utilization_Ratio']\n",
        "\n",
        "  # df[num_cols] = scaler.fit_transform(df[num_cols])\n",
        "\n",
        "  df['Gender'] = df['Gender'].apply(lambda x: 1 if x == 'F' else 0)\n",
        "\n",
        "  my_map(df, 'Education_Level')\n",
        "  my_map(df, 'Marital_Status')\n",
        "  my_map(df, 'Income_Category')\n",
        "  my_map(df, 'Card_Category')\n",
        "  for col in df:\n",
        "    df[col] = list(map(int, df[col]))\n",
        "\n",
        "  return df\n"
      ],
      "metadata": {
        "id": "_XwVUg8hg7tB"
      },
      "execution_count": 50,
      "outputs": []
    },
    {
      "cell_type": "code",
      "source": [
        "from sklearn.preprocessing import StandardScaler\n",
        "import pandas as pd\n",
        "\n",
        "# Copying original dataframe\n",
        "df_bank_ready = df_bank.copy()\n",
        "\n",
        "df_bank_ready = df_bank_ready.drop('train_idx', axis=1)\n",
        "df_bank_ready = df_bank_ready.drop('CLIENTNUM', axis=1)\n",
        "\n",
        "df_bank_ready = my_transformation(df_bank_ready)\n",
        "\n",
        "print('Shape of dataframe:', df_bank_ready.shape)\n",
        "df_bank_ready.head()\n",
        "\n",
        "df_bank_ready['Attrition_Flag'].value_counts()\n"
      ],
      "metadata": {
        "id": "Ro5dedWj50Kd",
        "colab": {
          "base_uri": "https://localhost:8080/"
        },
        "outputId": "12e1ef5f-aa5f-453d-ccea-e2a79a5e0c9e"
      },
      "execution_count": 68,
      "outputs": [
        {
          "output_type": "stream",
          "name": "stdout",
          "text": [
            "Shape of dataframe: (8101, 20)\n"
          ]
        },
        {
          "output_type": "execute_result",
          "data": {
            "text/plain": [
              "1    6801\n",
              "0    1300\n",
              "Name: Attrition_Flag, dtype: int64"
            ]
          },
          "metadata": {},
          "execution_count": 68
        }
      ]
    },
    {
      "cell_type": "markdown",
      "source": [
        "🖖 Splitting data for training and testing"
      ],
      "metadata": {
        "id": "BLEJ6UYU-pfG"
      }
    },
    {
      "cell_type": "code",
      "source": [
        "# Select Features\n",
        "feature = df_bank_ready.drop('Attrition_Flag', axis=1)\n",
        "\n",
        "# Select Target\n",
        "target = df_bank_ready['Attrition_Flag']\n",
        "\n",
        "# Set Training and Testing Data\n",
        "from sklearn.model_selection import train_test_split\n",
        "X_train, X_test, y_train, y_test = train_test_split(feature , target, \n",
        "                                                    shuffle = True, \n",
        "                                                    test_size=0.2, \n",
        "                                                    random_state=1)\n",
        "\n",
        "# Show the Training and Testing Data\n",
        "print('Shape of training feature:', X_train.shape)\n",
        "print('Shape of testing feature:', X_test.shape)\n",
        "print('Shape of training label:', y_train.shape)\n",
        "print('Shape of training label:', y_test.shape)"
      ],
      "metadata": {
        "colab": {
          "base_uri": "https://localhost:8080/"
        },
        "id": "-dUYKN439rS3",
        "outputId": "dd125d87-b8c6-4b03-90b8-e0358bb0861c"
      },
      "execution_count": 52,
      "outputs": [
        {
          "output_type": "stream",
          "name": "stdout",
          "text": [
            "Shape of training feature: (6480, 19)\n",
            "Shape of testing feature: (1621, 19)\n",
            "Shape of training label: (6480,)\n",
            "Shape of training label: (1621,)\n"
          ]
        }
      ]
    },
    {
      "cell_type": "markdown",
      "source": [
        "💾 Save the prepared data"
      ],
      "metadata": {
        "id": "znkru7yyeWbh"
      }
    },
    {
      "cell_type": "code",
      "source": [
        "from joblib import dump, load\n",
        "from sklearn.model_selection import train_test_split\n",
        "\n",
        "# Saving model and loading model\n",
        "if 'feature' in globals():\n",
        "  dump(feature, 'feature.data')\n",
        "  dump(target, 'target.data')\n",
        "else:\n",
        "  feature = load('feature.data') \n",
        "  target = load('target.data') \n",
        "\n",
        "X_train, X_test, y_train, y_test = train_test_split(feature , target, \n",
        "                                                  shuffle = True, \n",
        "                                                  test_size=0.2, \n",
        "                                                  random_state=1)"
      ],
      "metadata": {
        "id": "TFG1mO20eVol"
      },
      "execution_count": 40,
      "outputs": []
    },
    {
      "cell_type": "markdown",
      "source": [
        "#Model evaluation"
      ],
      "metadata": {
        "id": "BlV6FEVDjEjE"
      }
    },
    {
      "cell_type": "markdown",
      "source": [
        "3️⃣ - Evaluation models (will use this function to check how good a model is)"
      ],
      "metadata": {
        "id": "CTiF3hKm-hIo"
      }
    },
    {
      "cell_type": "code",
      "source": [
        "def evaluate_model(model, x_test, y_test):\n",
        "    from sklearn import metrics\n",
        "\n",
        "    # Predict Test Data \n",
        "    y_pred = model.predict(x_test)\n",
        "\n",
        "    # Calculate accuracy, precision, recall, f1-score, and kappa score\n",
        "    acc = metrics.accuracy_score(y_test, y_pred)\n",
        "    prec = metrics.precision_score(y_test, y_pred)\n",
        "    rec = metrics.recall_score(y_test, y_pred)\n",
        "    f1 = metrics.f1_score(y_test, y_pred)\n",
        "    kappa = metrics.cohen_kappa_score(y_test, y_pred)\n",
        "\n",
        "    # Calculate area under curve (AUC)\n",
        "    y_pred_proba = model.predict_proba(x_test)[::,1]\n",
        "    fpr, tpr, _ = metrics.roc_curve(y_test, y_pred_proba)\n",
        "    auc = metrics.roc_auc_score(y_test, y_pred_proba)\n",
        "\n",
        "    # Display confussion matrix\n",
        "    cm = metrics.confusion_matrix(y_test, y_pred)\n",
        "\n",
        "    return {'acc': acc, 'prec': prec, 'rec': rec, 'f1': f1, 'kappa': kappa, \n",
        "            'fpr': fpr, 'tpr': tpr, 'auc': auc, 'cm': cm}"
      ],
      "metadata": {
        "id": "T_rrnrxN-OSU"
      },
      "execution_count": 53,
      "outputs": []
    },
    {
      "cell_type": "markdown",
      "source": [
        "4️⃣ - Building the clasification models"
      ],
      "metadata": {
        "id": "8SMQX_MK_KLx"
      }
    },
    {
      "cell_type": "markdown",
      "source": [
        "##Tree Decision 🌳 "
      ],
      "metadata": {
        "id": "wDRwVoKsZGwU"
      }
    },
    {
      "cell_type": "code",
      "source": [
        "from sklearn import tree\n",
        "\n",
        "# Building Decision Tree model \n",
        "dtc = tree.DecisionTreeClassifier(random_state=0)\n",
        "dtc.fit(X_train, y_train)\n",
        "\n",
        "# # Evaluate Model\n",
        "dtc_eval = evaluate_model(dtc, X_test, y_test)\n",
        "\n",
        "# Print result\n",
        "print('Accuracy:', dtc_eval['acc'])\n",
        "print('Precision:', dtc_eval['prec'])\n",
        "print('Recall:', dtc_eval['rec'])\n",
        "print('F1 Score:', dtc_eval['f1'])\n",
        "print('Cohens Kappa Score:', dtc_eval['kappa'])\n",
        "print('Area Under Curve:', dtc_eval['auc'])\n",
        "print('Confusion Matrix:\\n', dtc_eval['cm'])"
      ],
      "metadata": {
        "id": "voO77Zpy_LZf",
        "outputId": "91d51f88-3d93-4b78-fabd-a6d9b46ec757",
        "colab": {
          "base_uri": "https://localhost:8080/"
        }
      },
      "execution_count": 54,
      "outputs": [
        {
          "output_type": "stream",
          "name": "stdout",
          "text": [
            "Accuracy: 0.9302899444787168\n",
            "Precision: 0.9536423841059603\n",
            "Recall: 0.962852897473997\n",
            "F1 Score: 0.9582255083179297\n",
            "Cohens Kappa Score: 0.747826541864624\n",
            "Area Under Curve: 0.8668809941915441\n",
            "Confusion Matrix:\n",
            " [[ 212   63]\n",
            " [  50 1296]]\n"
          ]
        }
      ]
    },
    {
      "cell_type": "markdown",
      "source": [
        "##Random Forest 🌲🌲🌲"
      ],
      "metadata": {
        "id": "f3t1_i96qNlf"
      }
    },
    {
      "cell_type": "code",
      "source": [
        "from sklearn.ensemble import RandomForestClassifier\n",
        "\n",
        "# Building Random Forest model \n",
        "rf = RandomForestClassifier(random_state=0)\n",
        "rf.fit(X_train, y_train)\n",
        "\n",
        "# Evaluate Model\n",
        "rf_eval = evaluate_model(rf, X_test, y_test)\n",
        "\n",
        "# Print result\n",
        "print('Accuracy:', rf_eval['acc'])\n",
        "print('Precision:', rf_eval['prec'])\n",
        "print('Recall:', rf_eval['rec'])\n",
        "print('F1 Score:', rf_eval['f1'])\n",
        "print('Cohens Kappa Score:', rf_eval['kappa'])\n",
        "print('Area Under Curve:', rf_eval['auc'])\n",
        "print('Confusion Matrix:\\n', rf_eval['cm'])"
      ],
      "metadata": {
        "colab": {
          "base_uri": "https://localhost:8080/"
        },
        "id": "QkRzBFtiqB2S",
        "outputId": "dd97999f-3c02-4559-8bc3-5a230cb93814"
      },
      "execution_count": 69,
      "outputs": [
        {
          "output_type": "stream",
          "name": "stdout",
          "text": [
            "Accuracy: 0.9537322640345466\n",
            "Precision: 0.9581831290555155\n",
            "Recall: 0.987369985141159\n",
            "F1 Score: 0.9725576289791438\n",
            "Cohens Kappa Score: 0.825420849553913\n",
            "Area Under Curve: 0.9807591516952586\n",
            "Confusion Matrix:\n",
            " [[ 217   58]\n",
            " [  17 1329]]\n"
          ]
        }
      ]
    },
    {
      "cell_type": "markdown",
      "source": [
        "##Naive Bayes 📊"
      ],
      "metadata": {
        "id": "wA5nKlBgEahe"
      }
    },
    {
      "cell_type": "code",
      "source": [
        "from sklearn.naive_bayes import GaussianNB\n",
        "\n",
        "# Building Naive Bayes model \n",
        "nb = GaussianNB()\n",
        "nb.fit(X_train, y_train)\n",
        "\n",
        "# Evaluate Model\n",
        "nb_eval = evaluate_model(nb, X_test, y_test)\n",
        "\n",
        "# Print result\n",
        "print('Accuracy:', nb_eval['acc'])\n",
        "print('Precision:', nb_eval['prec'])\n",
        "print('Recall:', nb_eval['rec'])\n",
        "print('F1 Score:', nb_eval['f1'])\n",
        "print('Cohens Kappa Score:', nb_eval['kappa'])\n",
        "print('Area Under Curve:', nb_eval['auc'])\n",
        "print('Confusion Matrix:\\n', nb_eval['cm'])"
      ],
      "metadata": {
        "id": "2t0WhQkYEeYP",
        "colab": {
          "base_uri": "https://localhost:8080/"
        },
        "outputId": "9c95345f-c289-4590-b401-15b2ed9f6582"
      },
      "execution_count": 25,
      "outputs": [
        {
          "output_type": "stream",
          "name": "stdout",
          "text": [
            "Accuracy: 0.8809376927822332\n",
            "Precision: 0.924834193072955\n",
            "Recall: 0.9323922734026746\n",
            "F1 Score: 0.9285978542360341\n",
            "Cohens Kappa Score: 0.5705630189466575\n",
            "Area Under Curve: 0.8672592192354451\n",
            "Confusion Matrix:\n",
            " [[ 173  102]\n",
            " [  91 1255]]\n"
          ]
        }
      ]
    },
    {
      "cell_type": "markdown",
      "source": [
        "##K-Nearest Neighbours 🏘️"
      ],
      "metadata": {
        "id": "JiEt0A9LSo_-"
      }
    },
    {
      "cell_type": "code",
      "source": [
        "from sklearn.neighbors import KNeighborsClassifier\n",
        "\n",
        "# Building KNN model \n",
        "knn = KNeighborsClassifier()\n",
        "knn.fit(X_train, y_train)\n",
        "\n",
        "# Evaluate Model\n",
        "knn_eval = evaluate_model(knn, X_test, y_test)\n",
        "\n",
        "# Print result\n",
        "print('Accuracy:', knn_eval['acc'])\n",
        "print('Precision:', knn_eval['prec'])\n",
        "print('Recall:', knn_eval['rec'])\n",
        "print('F1 Score:', knn_eval['f1'])\n",
        "print('Cohens Kappa Score:', knn_eval['kappa'])\n",
        "print('Area Under Curve:', knn_eval['auc'])\n",
        "print('Confusion Matrix:\\n', knn_eval['cm'])"
      ],
      "metadata": {
        "id": "SEEdo9y-Sv2p",
        "colab": {
          "base_uri": "https://localhost:8080/"
        },
        "outputId": "9fdd098f-6803-4cc5-977f-5cf479f894de"
      },
      "execution_count": 26,
      "outputs": [
        {
          "output_type": "stream",
          "name": "stdout",
          "text": [
            "Accuracy: 0.8846391116594695\n",
            "Precision: 0.9154121863799283\n",
            "Recall: 0.9487369985141159\n",
            "F1 Score: 0.931776723823422\n",
            "Cohens Kappa Score: 0.5592937697453262\n",
            "Area Under Curve: 0.8756179927056599\n",
            "Confusion Matrix:\n",
            " [[ 157  118]\n",
            " [  69 1277]]\n"
          ]
        }
      ]
    },
    {
      "cell_type": "markdown",
      "source": [
        "💾 Save the models"
      ],
      "metadata": {
        "id": "C0x_CW97dSIJ"
      }
    },
    {
      "cell_type": "code",
      "source": [
        "from joblib import dump, load\n",
        "\n",
        "# Saving model\n",
        "dump(dtc, 'bank_client_prediction_dtc.joblib')\n",
        "dump(rf, 'bank_client_prediction_rf.joblib')\n",
        "dump(nb, 'bank_client_prediction_nb.joblib')\n",
        "dump(knn, 'bank_client_prediction_knn.joblib')\n",
        "\n",
        "# Loading model\n",
        "dtc = load('bank_client_prediction_dtc.joblib') \n",
        "rf  = load('bank_client_prediction_rf.joblib') \n",
        "nb  = load('bank_client_prediction_nb.joblib') \n",
        "knn = load('bank_client_prediction_knn.joblib') "
      ],
      "metadata": {
        "id": "61N6CX0hdRET"
      },
      "execution_count": 72,
      "outputs": []
    },
    {
      "cell_type": "markdown",
      "source": [
        "#Model comparison 📊"
      ],
      "metadata": {
        "id": "7IQQbfGajYTj"
      }
    },
    {
      "cell_type": "markdown",
      "source": [
        "5️⃣ - Statistics plotted\n",
        "(Random Forest was not done because of the amount of time was taking to fit the model)"
      ],
      "metadata": {
        "id": "5eHmUN8eDPle"
      }
    },
    {
      "cell_type": "code",
      "source": [
        "# Intitialize figure with two plots\n",
        "fig, (ax1, ax2) = plt.subplots(1, 2)\n",
        "fig.suptitle('Model Comparison', fontsize=16, fontweight='bold')\n",
        "fig.set_figheight(7)\n",
        "fig.set_figwidth(14)\n",
        "fig.set_facecolor('white')\n",
        "\n",
        "# First plot\n",
        "## set bar size\n",
        "barWidth = 0.2\n",
        "dtc_score = [dtc_eval['acc'], dtc_eval['prec'], dtc_eval['rec'], dtc_eval['f1'], dtc_eval['kappa']]\n",
        "rf_score = [rf_eval['acc'], rf_eval['prec'], rf_eval['rec'], rf_eval['f1'], rf_eval['kappa']]\n",
        "nb_score = [nb_eval['acc'], nb_eval['prec'], nb_eval['rec'], nb_eval['f1'], nb_eval['kappa']]\n",
        "knn_score = [knn_eval['acc'], knn_eval['prec'], knn_eval['rec'], knn_eval['f1'], knn_eval['kappa']]\n",
        "\n",
        "## Set position of bar on X axis\n",
        "r1 = np.arange(len(dtc_score))\n",
        "r2 = [x + barWidth for x in r1]\n",
        "r3 = [x + barWidth for x in r2]\n",
        "r4 = [x + barWidth for x in r3]\n",
        "\n",
        "## Make the plot\n",
        "ax1.bar(r1, dtc_score, width=barWidth, edgecolor='white', label='Decision Tree')\n",
        "ax1.bar(r2, nb_score, width=barWidth, edgecolor='white', label='Naive Bayes')\n",
        "ax1.bar(r3, knn_score, width=barWidth, edgecolor='white', label='K-Nearest Neighbors')\n",
        "ax1.bar(r4, rf_score, width=barWidth, edgecolor='white', label='Random Forest')\n",
        "\n",
        "## Configure x and y axis\n",
        "ax1.set_xlabel('Metrics', fontweight='bold')\n",
        "labels = ['Accuracy', 'Precision', 'Recall', 'F1', 'Kappa']\n",
        "ax1.set_xticks([r + (barWidth * 1.5) for r in range(len(dtc_score))], )\n",
        "ax1.set_xticklabels(labels)\n",
        "ax1.set_ylabel('Score', fontweight='bold')\n",
        "ax1.set_ylim(0, 1)\n",
        "\n",
        "## Create legend & title\n",
        "ax1.set_title('Evaluation Metrics', fontsize=14, fontweight='bold')\n",
        "ax1.legend()\n",
        "\n",
        "# Second plot\n",
        "## Comparing ROC Curve\n",
        "ax2.plot(dtc_eval['fpr'], dtc_eval['tpr'], label='Decision Tree, auc = {:0.5f}'.format(dtc_eval['auc']))\n",
        "ax2.plot(rf_eval['fpr'], rf_eval['tpr'], label='Random Forest, auc = {:0.5f}'.format(rf_eval['auc']))\n",
        "ax2.plot(nb_eval['fpr'], nb_eval['tpr'], label='Naive Bayes, auc = {:0.5f}'.format(nb_eval['auc']))\n",
        "ax2.plot(knn_eval['fpr'], knn_eval['tpr'], label='K-Nearest Nieghbor, auc = {:0.5f}'.format(knn_eval['auc']))\n",
        "\n",
        "## Configure x and y axis\n",
        "ax2.set_xlabel('False Positive Rate', fontweight='bold')\n",
        "ax2.set_ylabel('True Positive Rate', fontweight='bold')\n",
        "\n",
        "## Create legend & title\n",
        "ax2.set_title('ROC Curve', fontsize=14, fontweight='bold')\n",
        "ax2.legend(loc=4)\n",
        "\n",
        "plt.show()"
      ],
      "metadata": {
        "colab": {
          "base_uri": "https://localhost:8080/",
          "height": 438
        },
        "id": "Q_RNY3Q_DOmy",
        "outputId": "55699438-b86d-41a7-c0c4-f83a7917642b"
      },
      "execution_count": 70,
      "outputs": [
        {
          "output_type": "display_data",
          "data": {
            "text/plain": [
              "<Figure size 1400x700 with 2 Axes>"
            ],
            "image/png": "[encoded data removed]"
          },
          "metadata": {}
        }
      ]
    },
    {
      "cell_type": "markdown",
      "source": [
        "#Model omptimitzation 📈"
      ],
      "metadata": {
        "id": "XvLQiYCAjlQW"
      }
    },
    {
      "cell_type": "markdown",
      "source": [
        "6️⃣ - (Will optimize the Random Forest since is the one which already has good f1 score)"
      ],
      "metadata": {
        "id": "h9Zdb_tEUiVN"
      }
    },
    {
      "cell_type": "code",
      "source": [
        "from sklearn.model_selection import GridSearchCV\n",
        "from sklearn import tree\n",
        "\n",
        "# Create the parameter grid based on the results of random search \n",
        "param_grid = {\n",
        "    'max_depth': [50, 80, 100],\n",
        "    'max_features': [2, 3, 4],\n",
        "    'min_samples_leaf': [3, 4, 5],\n",
        "    'min_samples_split': [8, 10, 12],\n",
        "    'n_estimators': [100, 300, 500]\n",
        "}\n",
        "\n",
        "# Create a base model\n",
        "dt_grids = RandomForestClassifier(random_state=0)\n",
        "\n",
        "# Initiate the grid search model\n",
        "grid_search = GridSearchCV(estimator=dt_grids, param_grid=param_grid, scoring='f1', #f1 is the one we want to maximize\n",
        "                           cv=5, n_jobs=-1, verbose=2)\n",
        "\n",
        "# Fit the grid search to the data\n",
        "grid_search.fit(X_train, y_train)\n",
        "\n",
        "grid_search.best_params_"
      ],
      "metadata": {
        "id": "kZ0VuNoJUujS",
        "colab": {
          "base_uri": "https://localhost:8080/"
        },
        "outputId": "72cee8ea-02a8-48c5-fad2-68b49c20195a"
      },
      "execution_count": 76,
      "outputs": [
        {
          "output_type": "stream",
          "name": "stdout",
          "text": [
            "Fitting 5 folds for each of 243 candidates, totalling 1215 fits\n"
          ]
        },
        {
          "output_type": "execute_result",
          "data": {
            "text/plain": [
              "{'max_depth': 50,\n",
              " 'max_features': 4,\n",
              " 'min_samples_leaf': 3,\n",
              " 'min_samples_split': 10,\n",
              " 'n_estimators': 100}"
            ]
          },
          "metadata": {},
          "execution_count": 76
        }
      ]
    },
    {
      "cell_type": "code",
      "source": [
        "# Select best model with best fit\n",
        "best_grid = grid_search.best_estimator_\n",
        "\n",
        "# Evaluate Model\n",
        "best_grid_eval = evaluate_model(best_grid, X_test, y_test)\n",
        "\n",
        "# Print result\n",
        "print('Accuracy:', best_grid_eval['acc'])\n",
        "print('Precision:', best_grid_eval['prec'])\n",
        "print('Recall:', best_grid_eval['rec'])\n",
        "print('F1 Score:', best_grid_eval['f1'])\n",
        "print('Cohens Kappa Score:', best_grid_eval['kappa'])\n",
        "print('Area Under Curve:', best_grid_eval['auc'])\n",
        "print('Confusion Matrix:\\n', best_grid_eval['cm'])"
      ],
      "metadata": {
        "colab": {
          "base_uri": "https://localhost:8080/"
        },
        "id": "bgDsIzERX63P",
        "outputId": "c6cce2d2-39de-4da6-e7f4-b5e450c368a0"
      },
      "execution_count": 78,
      "outputs": [
        {
          "output_type": "stream",
          "name": "stdout",
          "text": [
            "Accuracy: 0.9512646514497224\n",
            "Precision: 0.9554277498202732\n",
            "Recall: 0.987369985141159\n",
            "F1 Score: 0.9711362805991962\n",
            "Cohens Kappa Score: 0.8149717167192839\n",
            "Area Under Curve: 0.9806997163312171\n",
            "Confusion Matrix:\n",
            " [[ 213   62]\n",
            " [  17 1329]]\n"
          ]
        }
      ]
    },
    {
      "cell_type": "markdown",
      "source": [
        "💾 Save the optimized model"
      ],
      "metadata": {
        "id": "q4VrqwQRzy4s"
      }
    },
    {
      "cell_type": "code",
      "source": [
        "from joblib import dump, load\n",
        "\n",
        "# Saving model\n",
        "dump(best_grid, 'bank_client_prediction_opt.joblib')\n",
        "\n",
        "# Loading model\n",
        "best_grid = load('bank_client_prediction_opt.joblib')"
      ],
      "metadata": {
        "id": "nqJ1pNVfz1F3"
      },
      "execution_count": 79,
      "outputs": []
    },
    {
      "cell_type": "markdown",
      "source": [
        "📊 Model comparasion Non-Optimized vs Optimized Model"
      ],
      "metadata": {
        "id": "YRxdNjPnbAdz"
      }
    },
    {
      "cell_type": "code",
      "source": [
        "# Intitialize figure with two plots\n",
        "fig, (ax1, ax2) = plt.subplots(1, 2)\n",
        "fig.suptitle('Model Comparison', fontsize=16, fontweight='bold')\n",
        "fig.set_figheight(7)\n",
        "fig.set_figwidth(14)\n",
        "fig.set_facecolor('white')\n",
        "\n",
        "# First plot\n",
        "## set bar size\n",
        "barWidth = 0.2\n",
        "rf_score = [rf_eval['acc'], rf_eval['prec'], rf_eval['rec'], rf_eval['f1'], rf_eval['kappa']]\n",
        "best_grid_score = [best_grid_eval['acc'], best_grid_eval['prec'], best_grid_eval['rec'], best_grid_eval['f1'], best_grid_eval['kappa']]\n",
        "\n",
        "## Set position of bar on X axis\n",
        "r1 = np.arange(len(rf_score))\n",
        "r2 = [x + barWidth for x in r1]\n",
        "\n",
        "## Make the plot\n",
        "ax1.bar(r1, rf_score, width=barWidth, edgecolor='white', label='Random Forest (Base Line)')\n",
        "ax1.bar(r2, best_grid_score, width=barWidth, edgecolor='white', label='Random Forest (Optimized)')\n",
        "\n",
        "## Add xticks on the middle of the group bars\n",
        "ax1.set_xlabel('Metrics', fontweight='bold')\n",
        "labels = ['Accuracy', 'Precision', 'Recall', 'F1', 'Kappa']\n",
        "ax1.set_xticks([r + (barWidth * 0.5) for r in range(len(dtc_score))], )\n",
        "ax1.set_xticklabels(labels)\n",
        "ax1.set_ylabel('Score', fontweight='bold')\n",
        "# ax1.set_ylim(0, 1)\n",
        "\n",
        "## Create legend & Show graphic\n",
        "ax1.set_title('Evaluation Metrics', fontsize=14, fontweight='bold')\n",
        "ax1.legend()\n",
        "\n",
        "# Second plot\n",
        "## Comparing ROC Curve\n",
        "ax2.plot(rf_eval['fpr'], rf_eval['tpr'], label='Random Forest, auc = {:0.5f}'.format(rf_eval['auc']))\n",
        "ax2.plot(best_grid_eval['fpr'], best_grid_eval['tpr'], label='Random Forest, auc = {:0.5f}'.format(best_grid_eval['auc']))\n",
        "\n",
        "ax2.set_title('ROC Curve', fontsize=14, fontweight='bold')\n",
        "ax2.set_xlabel('False Positive Rate', fontweight='bold')\n",
        "ax2.set_ylabel('True Positive Rate', fontweight='bold')\n",
        "ax2.legend(loc=4)\n",
        "\n",
        "plt.show()\n",
        "\n",
        "print('Change of {:0.2f}% on accuracy.'.format(100 * ((best_grid_eval['acc'] - rf_eval['acc']) / rf_eval['acc'])))\n",
        "print('Change of {:0.2f}% on precision.'.format(100 * ((best_grid_eval['prec'] - rf_eval['prec']) / rf_eval['prec'])))\n",
        "print('Change of {:0.2f}% on recall.'.format(100 * ((best_grid_eval['rec'] - rf_eval['rec']) / rf_eval['rec'])))\n",
        "print('Change of {:0.2f}% on F1 score.'.format(100 * ((best_grid_eval['f1'] - rf_eval['f1']) / rf_eval['f1'])))\n",
        "print('Change of {:0.2f}% on Kappa score.'.format(100 * ((best_grid_eval['kappa'] - rf_eval['kappa']) / rf_eval['kappa'])))\n",
        "print('Change of {:0.2f}% on AUC.'.format(100 * ((best_grid_eval['auc'] - rf_eval['auc']) / rf_eval['auc'])))"
      ],
      "metadata": {
        "colab": {
          "base_uri": "https://localhost:8080/",
          "height": 542
        },
        "id": "iYPWWX_va_pa",
        "outputId": "5d48975e-80e7-457c-cdcb-981e106489e0"
      },
      "execution_count": 80,
      "outputs": [
        {
          "output_type": "display_data",
          "data": {
            "text/plain": [
              "<Figure size 1400x700 with 2 Axes>"
            ],
            "image/png": "[encoded data removed]"
          },
          "metadata": {}
        },
        {
          "output_type": "stream",
          "name": "stdout",
          "text": [
            "Change of -0.26% on accuracy.\n",
            "Change of -0.29% on precision.\n",
            "Change of 0.00% on recall.\n",
            "Change of -0.15% on F1 score.\n",
            "Change of -1.27% on Kappa score.\n",
            "Change of -0.01% on AUC.\n"
          ]
        }
      ]
    },
    {
      "cell_type": "markdown",
      "source": [
        "#Solution generation"
      ],
      "metadata": {
        "id": "81K6x4o6jpFL"
      }
    },
    {
      "cell_type": "markdown",
      "source": [
        "Load testing file:"
      ],
      "metadata": {
        "id": "z5Uew-60nE9A"
      }
    },
    {
      "cell_type": "code",
      "source": [
        "from sklearn.preprocessing import StandardScaler\n",
        "from sklearn import preprocessing\n",
        "from sklearn import utils\n",
        "\n",
        "# Load dataset\n",
        "df_bank_test = pd.read_csv('https://raw.githubusercontent.com/miquelt9/data-science-jobbarcelona23/main/supply_chain_test.csv')\n",
        "\n",
        "df_bank_test = df_bank_test.drop('test_idx', axis=1)\n",
        "df_bank_test = df_bank_test.drop('CLIENTNUM', axis=1)\n",
        "\n",
        "df_bank_test = my_transformation(df_bank_test)\n",
        "\n",
        "# Select Features\n",
        "test_feature = df_bank_test\n",
        "\n",
        "print('Shape of dataframe:', df_bank_test.shape)\n",
        "df_bank_test.head()"
      ],
      "metadata": {
        "colab": {
          "base_uri": "https://localhost:8080/",
          "height": 287
        },
        "id": "Shj7v0qLnEJA",
        "outputId": "632ed907-2a46-4e44-cffb-96fa28c0f115"
      },
      "execution_count": 81,
      "outputs": [
        {
          "output_type": "stream",
          "name": "stdout",
          "text": [
            "Shape of dataframe: (2026, 19)\n"
          ]
        },
        {
          "output_type": "execute_result",
          "data": {
            "text/plain": [
              "   Customer_Age  Gender  Dependent_count  Education_Level  Marital_Status  \\\n",
              "0            48       1                3                4               3   \n",
              "1            59       0                1                4               3   \n",
              "2            37       1                2                5               1   \n",
              "3            47       0                3                3               1   \n",
              "4            42       0                3                2               3   \n",
              "\n",
              "   Income_Category  Card_Category  Months_on_book  Total_Relationship_Count  \\\n",
              "0                2              3              39                         4   \n",
              "1                2              3              53                         5   \n",
              "2                2              3              36                         4   \n",
              "3                4              3              36                         4   \n",
              "4                3              3              33                         3   \n",
              "\n",
              "   Months_Inactive_12_mon  Contacts_Count_12_mon  Credit_Limit  \\\n",
              "0                       3                      4          2991   \n",
              "1                       5                      4          2192   \n",
              "2                       3                      3          1734   \n",
              "3                       2                      3          4786   \n",
              "4                       3                      2          3714   \n",
              "\n",
              "   Total_Revolving_Bal  Avg_Open_To_Buy  Total_Amt_Chng_Q4_Q1  \\\n",
              "0                 1508             1483                     0   \n",
              "1                 1569              623                     0   \n",
              "2                  987              747                     0   \n",
              "3                 1516             3270                     0   \n",
              "4                 2170             1544                     0   \n",
              "\n",
              "   Total_Trans_Amt  Total_Trans_Ct  Total_Ct_Chng_Q4_Q1  Avg_Utilization_Ratio  \n",
              "0             3734              64                    0                      0  \n",
              "1             4010              79                    0                      0  \n",
              "2             4727              67                    0                      0  \n",
              "3             4973              74                    0                      0  \n",
              "4             1454              35                    0                      0  "
            ],
            "text/html": [
              "\n",
              "  <div id=\"df-fe1ca49c-75b5-490f-bc7a-b1296ae4692a\">\n",
              "    <div class=\"colab-df-container\">\n",
              "      <div>\n",
              "<style scoped>\n",
              "    .dataframe tbody tr th:only-of-type {\n",
              "        vertical-align: middle;\n",
              "    }\n",
              "\n",
              "    .dataframe tbody tr th {\n",
              "        vertical-align: top;\n",
              "    }\n",
              "\n",
              "    .dataframe thead th {\n",
              "        text-align: right;\n",
              "    }\n",
              "</style>\n",
              "<table border=\"1\" class=\"dataframe\">\n",
              "  <thead>\n",
              "    <tr style=\"text-align: right;\">\n",
              "      <th></th>\n",
              "      <th>Customer_Age</th>\n",
              "      <th>Gender</th>\n",
              "      <th>Dependent_count</th>\n",
              "      <th>Education_Level</th>\n",
              "      <th>Marital_Status</th>\n",
              "      <th>Income_Category</th>\n",
              "      <th>Card_Category</th>\n",
              "      <th>Months_on_book</th>\n",
              "      <th>Total_Relationship_Count</th>\n",
              "      <th>Months_Inactive_12_mon</th>\n",
              "      <th>Contacts_Count_12_mon</th>\n",
              "      <th>Credit_Limit</th>\n",
              "      <th>Total_Revolving_Bal</th>\n",
              "      <th>Avg_Open_To_Buy</th>\n",
              "      <th>Total_Amt_Chng_Q4_Q1</th>\n",
              "      <th>Total_Trans_Amt</th>\n",
              "      <th>Total_Trans_Ct</th>\n",
              "      <th>Total_Ct_Chng_Q4_Q1</th>\n",
              "      <th>Avg_Utilization_Ratio</th>\n",
              "    </tr>\n",
              "  </thead>\n",
              "  <tbody>\n",
              "    <tr>\n",
              "      <th>0</th>\n",
              "      <td>48</td>\n",
              "      <td>1</td>\n",
              "      <td>3</td>\n",
              "      <td>4</td>\n",
              "      <td>3</td>\n",
              "      <td>2</td>\n",
              "      <td>3</td>\n",
              "      <td>39</td>\n",
              "      <td>4</td>\n",
              "      <td>3</td>\n",
              "      <td>4</td>\n",
              "      <td>2991</td>\n",
              "      <td>1508</td>\n",
              "      <td>1483</td>\n",
              "      <td>0</td>\n",
              "      <td>3734</td>\n",
              "      <td>64</td>\n",
              "      <td>0</td>\n",
              "      <td>0</td>\n",
              "    </tr>\n",
              "    <tr>\n",
              "      <th>1</th>\n",
              "      <td>59</td>\n",
              "      <td>0</td>\n",
              "      <td>1</td>\n",
              "      <td>4</td>\n",
              "      <td>3</td>\n",
              "      <td>2</td>\n",
              "      <td>3</td>\n",
              "      <td>53</td>\n",
              "      <td>5</td>\n",
              "      <td>5</td>\n",
              "      <td>4</td>\n",
              "      <td>2192</td>\n",
              "      <td>1569</td>\n",
              "      <td>623</td>\n",
              "      <td>0</td>\n",
              "      <td>4010</td>\n",
              "      <td>79</td>\n",
              "      <td>0</td>\n",
              "      <td>0</td>\n",
              "    </tr>\n",
              "    <tr>\n",
              "      <th>2</th>\n",
              "      <td>37</td>\n",
              "      <td>1</td>\n",
              "      <td>2</td>\n",
              "      <td>5</td>\n",
              "      <td>1</td>\n",
              "      <td>2</td>\n",
              "      <td>3</td>\n",
              "      <td>36</td>\n",
              "      <td>4</td>\n",
              "      <td>3</td>\n",
              "      <td>3</td>\n",
              "      <td>1734</td>\n",
              "      <td>987</td>\n",
              "      <td>747</td>\n",
              "      <td>0</td>\n",
              "      <td>4727</td>\n",
              "      <td>67</td>\n",
              "      <td>0</td>\n",
              "      <td>0</td>\n",
              "    </tr>\n",
              "    <tr>\n",
              "      <th>3</th>\n",
              "      <td>47</td>\n",
              "      <td>0</td>\n",
              "      <td>3</td>\n",
              "      <td>3</td>\n",
              "      <td>1</td>\n",
              "      <td>4</td>\n",
              "      <td>3</td>\n",
              "      <td>36</td>\n",
              "      <td>4</td>\n",
              "      <td>2</td>\n",
              "      <td>3</td>\n",
              "      <td>4786</td>\n",
              "      <td>1516</td>\n",
              "      <td>3270</td>\n",
              "      <td>0</td>\n",
              "      <td>4973</td>\n",
              "      <td>74</td>\n",
              "      <td>0</td>\n",
              "      <td>0</td>\n",
              "    </tr>\n",
              "    <tr>\n",
              "      <th>4</th>\n",
              "      <td>42</td>\n",
              "      <td>0</td>\n",
              "      <td>3</td>\n",
              "      <td>2</td>\n",
              "      <td>3</td>\n",
              "      <td>3</td>\n",
              "      <td>3</td>\n",
              "      <td>33</td>\n",
              "      <td>3</td>\n",
              "      <td>3</td>\n",
              "      <td>2</td>\n",
              "      <td>3714</td>\n",
              "      <td>2170</td>\n",
              "      <td>1544</td>\n",
              "      <td>0</td>\n",
              "      <td>1454</td>\n",
              "      <td>35</td>\n",
              "      <td>0</td>\n",
              "      <td>0</td>\n",
              "    </tr>\n",
              "  </tbody>\n",
              "</table>\n",
              "</div>\n",
              "      <button class=\"colab-df-convert\" onclick=\"convertToInteractive('df-fe1ca49c-75b5-490f-bc7a-b1296ae4692a')\"\n",
              "              title=\"Convert this dataframe to an interactive table.\"\n",
              "              style=\"display:none;\">\n",
              "        \n",
              "  <svg xmlns=\"http://www.w3.org/2000/svg\" height=\"24px\"viewBox=\"0 0 24 24\"\n",
              "       width=\"24px\">\n",
              "    <path d=\"M0 0h24v24H0V0z\" fill=\"none\"/>\n",
              "    <path d=\"M18.56 5.44l.94 2.06.94-2.06 2.06-.94-2.06-.94-.94-2.06-.94 2.06-2.06.94zm-11 1L8.5 8.5l.94-2.06 2.06-.94-2.06-.94L8.5 2.5l-.94 2.06-2.06.94zm10 10l.94 2.06.94-2.06 2.06-.94-2.06-.94-.94-2.06-.94 2.06-2.06.94z\"/><path d=\"M17.41 7.96l-1.37-1.37c-.4-.4-.92-.59-1.43-.59-.52 0-1.04.2-1.43.59L10.3 9.45l-7.72 7.72c-.78.78-.78 2.05 0 2.83L4 21.41c.39.39.9.59 1.41.59.51 0 1.02-.2 1.41-.59l7.78-7.78 2.81-2.81c.8-.78.8-2.07 0-2.86zM5.41 20L4 18.59l7.72-7.72 1.47 1.35L5.41 20z\"/>\n",
              "  </svg>\n",
              "      </button>\n",
              "      \n",
              "  <style>\n",
              "    .colab-df-container {\n",
              "      display:flex;\n",
              "      flex-wrap:wrap;\n",
              "      gap: 12px;\n",
              "    }\n",
              "\n",
              "    .colab-df-convert {\n",
              "      background-color: #E8F0FE;\n",
              "      border: none;\n",
              "      border-radius: 50%;\n",
              "      cursor: pointer;\n",
              "      display: none;\n",
              "      fill: #1967D2;\n",
              "      height: 32px;\n",
              "      padding: 0 0 0 0;\n",
              "      width: 32px;\n",
              "    }\n",
              "\n",
              "    .colab-df-convert:hover {\n",
              "      background-color: #E2EBFA;\n",
              "      box-shadow: 0px 1px 2px rgba(60, 64, 67, 0.3), 0px 1px 3px 1px rgba(60, 64, 67, 0.15);\n",
              "      fill: #174EA6;\n",
              "    }\n",
              "\n",
              "    [theme=dark] .colab-df-convert {\n",
              "      background-color: #3B4455;\n",
              "      fill: #D2E3FC;\n",
              "    }\n",
              "\n",
              "    [theme=dark] .colab-df-convert:hover {\n",
              "      background-color: #434B5C;\n",
              "      box-shadow: 0px 1px 3px 1px rgba(0, 0, 0, 0.15);\n",
              "      filter: drop-shadow(0px 1px 2px rgba(0, 0, 0, 0.3));\n",
              "      fill: #FFFFFF;\n",
              "    }\n",
              "  </style>\n",
              "\n",
              "      <script>\n",
              "        const buttonEl =\n",
              "          document.querySelector('#df-fe1ca49c-75b5-490f-bc7a-b1296ae4692a button.colab-df-convert');\n",
              "        buttonEl.style.display =\n",
              "          google.colab.kernel.accessAllowed ? 'block' : 'none';\n",
              "\n",
              "        async function convertToInteractive(key) {\n",
              "          const element = document.querySelector('#df-fe1ca49c-75b5-490f-bc7a-b1296ae4692a');\n",
              "          const dataTable =\n",
              "            await google.colab.kernel.invokeFunction('convertToInteractive',\n",
              "                                                     [key], {});\n",
              "          if (!dataTable) return;\n",
              "\n",
              "          const docLinkHtml = 'Like what you see? Visit the ' +\n",
              "            '<a target=\"_blank\" href=https://colab.research.google.com/notebooks/data_table.ipynb>data table notebook</a>'\n",
              "            + ' to learn more about interactive tables.';\n",
              "          element.innerHTML = '';\n",
              "          dataTable['output_type'] = 'display_data';\n",
              "          await google.colab.output.renderOutput(dataTable, element);\n",
              "          const docLink = document.createElement('div');\n",
              "          docLink.innerHTML = docLinkHtml;\n",
              "          element.appendChild(docLink);\n",
              "        }\n",
              "      </script>\n",
              "    </div>\n",
              "  </div>\n",
              "  "
            ]
          },
          "metadata": {},
          "execution_count": 81
        }
      ]
    },
    {
      "cell_type": "code",
      "source": [
        "#df_bank_test = dtc.predict(test_feature)\n",
        "df_bank_test = rf.predict(test_feature)\n",
        "#df_bank_test = best_grid.predict(test_feature) # the optimitzation in fact decreased by 15% the f1 score\n",
        "\n",
        "# Save new dataframe into csv file\n",
        "df = pd.DataFrame(df_bank_test)\n",
        "df.columns = ['target']\n",
        "df.to_csv('predictions.csv', index=False)\n",
        "\n",
        "df = pd.read_csv(r'predictions.csv')\n",
        "df.to_json (r'predictions.json')\n",
        "\n",
        "df.head(8)\n",
        "df['target'].value_counts()"
      ],
      "metadata": {
        "colab": {
          "base_uri": "https://localhost:8080/"
        },
        "id": "K07kzcA2jsYx",
        "outputId": "e77dd526-2762-44d4-eb5f-c1da9e84bdfa"
      },
      "execution_count": 83,
      "outputs": [
        {
          "output_type": "execute_result",
          "data": {
            "text/plain": [
              "1    1749\n",
              "0     277\n",
              "Name: target, dtype: int64"
            ]
          },
          "metadata": {},
          "execution_count": 83
        }
      ]
    }
  ]
}
